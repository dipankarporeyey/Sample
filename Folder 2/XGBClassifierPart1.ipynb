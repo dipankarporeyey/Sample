{
 "cells": [
  {
   "cell_type": "code",
   "execution_count": null,
   "id": "7144c3a3",
   "metadata": {},
   "outputs": [],
   "source": []
  },
  {
   "cell_type": "code",
   "execution_count": null,
   "id": "49be7e56",
   "metadata": {},
   "outputs": [],
   "source": [
    "param_grid = {\n",
    "    'learning_rate': [0.01, 0.1, 0.2],\n",
    "    'max_depth': [3, 4, 5],\n",
    "    'n_estimators': [100, 200, 300],\n",
    "}"
   ]
  },
  {
   "cell_type": "code",
   "execution_count": null,
   "id": "0a1ce39c",
   "metadata": {},
   "outputs": [],
   "source": []
  },
  {
   "cell_type": "code",
   "execution_count": 2,
   "id": "0d94cf3a",
   "metadata": {},
   "outputs": [
    {
     "name": "stdout",
     "output_type": "stream",
     "text": [
      "Accuracy: 1.00\n",
      "Feature Importance:\n",
      "             Feature  Importance\n",
      "0  sepal length (cm)    0.011077\n",
      "1   sepal width (cm)    0.029049\n",
      "2  petal length (cm)    0.752451\n",
      "3   petal width (cm)    0.207423\n"
     ]
    }
   ],
   "source": [
    "# Import necessary libraries\n",
    "import pandas as pd\n",
    "import numpy as np\n",
    "from sklearn.datasets import load_iris\n",
    "from sklearn.model_selection import train_test_split\n",
    "from sklearn.metrics import accuracy_score\n",
    "from xgboost import XGBClassifier\n",
    "\n",
    "# Step 1: Load and Prepare the Iris Dataset\n",
    "iris = load_iris()\n",
    "X = iris.data  # Features\n",
    "y = iris.target  # Target labels\n",
    "\n",
    "# Step 2: Split the Data into Training and Testing Sets\n",
    "X_train, X_test, y_train, y_test = train_test_split(X, y, test_size=0.2, random_state=42)\n",
    "\n",
    "# Step 3: Initialize and Configure the XGBoost Model\n",
    "model = XGBClassifier(\n",
    "    objective='multi:softmax',  # Multiclass classification\n",
    "    num_class=3,                # Number of classes (Iris species)\n",
    "    seed=42                     # Random seed for reproducibility\n",
    ")\n",
    "\n",
    "# Step 4: Train the XGBoost Model\n",
    "model.fit(X_train, y_train)\n",
    "\n",
    "# Step 5: Make Predictions on the Test Set\n",
    "y_pred = model.predict(X_test)\n",
    "\n",
    "# Step 6: Evaluate the Model\n",
    "accuracy = accuracy_score(y_test, y_pred)\n",
    "print(f\"Accuracy: {accuracy:.2f}\")\n",
    "\n",
    "# Step 7 (Optional): Feature Importance\n",
    "importances = model.feature_importances_\n",
    "feature_names = iris.feature_names\n",
    "feature_importance_df = pd.DataFrame({'Feature': feature_names, 'Importance': importances})\n",
    "print(\"Feature Importance:\")\n",
    "print(feature_importance_df)\n"
   ]
  },
  {
   "cell_type": "code",
   "execution_count": 3,
   "id": "9e398324",
   "metadata": {},
   "outputs": [],
   "source": [
    "# importances = model.feature_importances_"
   ]
  },
  {
   "cell_type": "code",
   "execution_count": 5,
   "id": "2a6891fd",
   "metadata": {},
   "outputs": [
    {
     "name": "stdout",
     "output_type": "stream",
     "text": [
      "Accuracy: 1.00\n",
      "Feature Importance:\n",
      "             Feature  Importance\n",
      "0  sepal length (cm)    0.011077\n",
      "1   sepal width (cm)    0.029049\n",
      "2  petal length (cm)    0.752451\n",
      "3   petal width (cm)    0.207423\n"
     ]
    },
    {
     "name": "stderr",
     "output_type": "stream",
     "text": [
      "C:\\Users\\UJ415AV\\AppData\\Local\\anaconda3\\Lib\\site-packages\\xgboost\\core.py:617: FutureWarning: Pass `objective` as keyword args.\n",
      "  warnings.warn(msg, FutureWarning)\n"
     ]
    }
   ],
   "source": [
    "# Import necessary libraries\n",
    "import pandas as pd\n",
    "import numpy as np\n",
    "from sklearn.datasets import load_iris\n",
    "from sklearn.model_selection import train_test_split\n",
    "from sklearn.metrics import accuracy_score\n",
    "from xgboost import XGBClassifier\n",
    "\n",
    "# Step 1: Load and Prepare the Iris Dataset\n",
    "iris = load_iris()\n",
    "X = iris.data  # Features\n",
    "y = iris.target  # Target labels\n",
    "\n",
    "# Step 2: Split the Data into Training and Testing Sets\n",
    "X_train, X_test, y_train, y_test = train_test_split(X, y, test_size=0.2, random_state=42)\n",
    "\n",
    "# Step 3: Initialize and Configure the XGBoost Model\n",
    "param_grid = {\n",
    "    'learning_rate': [0.01, 0.1, 0.2],\n",
    "    'max_depth': [3, 4, 5],\n",
    "    'n_estimators': [100, 200, 300],\n",
    "}\n",
    "model = XGBClassifier(param_grid)\n",
    "\n",
    "# Step 4: Train the XGBoost Model\n",
    "model.fit(X_train, y_train)\n",
    "\n",
    "# Step 5: Make Predictions on the Test Set\n",
    "y_pred = model.predict(X_test)\n",
    "\n",
    "# Step 6: Evaluate the Model\n",
    "accuracy = accuracy_score(y_test, y_pred)\n",
    "print(f\"Accuracy: {accuracy:.2f}\")\n",
    "\n",
    "# Step 7 (Optional): Feature Importance\n",
    "importances = model.feature_importances_\n",
    "feature_names = iris.feature_names\n",
    "feature_importance_df = pd.DataFrame({'Feature': feature_names, 'Importance': importances})\n",
    "print(\"Feature Importance:\")\n",
    "print(feature_importance_df)\n"
   ]
  },
  {
   "cell_type": "code",
   "execution_count": 19,
   "id": "bd2d12ef",
   "metadata": {},
   "outputs": [],
   "source": [
    "# make_blobs.__dir__()"
   ]
  },
  {
   "cell_type": "code",
   "execution_count": 24,
   "id": "7c49d259",
   "metadata": {},
   "outputs": [],
   "source": [
    "# from sklearn.datasets import load_iris, make_blobs\n",
    "# iris = make_blobs(n_samples=100, n_features=2)\n",
    "# print(iris)"
   ]
  },
  {
   "cell_type": "code",
   "execution_count": 29,
   "id": "5bb57c11",
   "metadata": {},
   "outputs": [
    {
     "name": "stdout",
     "output_type": "stream",
     "text": [
      "Accuracy: 1.00\n"
     ]
    }
   ],
   "source": [
    "# Import necessary libraries\n",
    "import pandas as pd\n",
    "import numpy as np\n",
    "from sklearn.datasets import load_iris, make_blobs\n",
    "from sklearn.model_selection import train_test_split\n",
    "from sklearn.metrics import accuracy_score\n",
    "from xgboost import XGBClassifier\n",
    "\n",
    "# Step 1: Load and Prepare the Iris Dataset\n",
    "dataset = make_blobs(n_samples=10000, n_features=50, centers=3)\n",
    "X = dataset[0]  # Features\n",
    "y = dataset[1]  # Target labels\n",
    "\n",
    "# Step 2: Split the Data into Training and Testing Sets\n",
    "X_train, X_test, y_train, y_test = train_test_split(X, y, test_size=0.2, random_state=42)\n",
    "\n",
    "# Step 3: Initialize and Configure the XGBoost Model\n",
    "param_grid = {\n",
    "    'learning_rate': [0.01, 0.1, 0.2],\n",
    "    'max_depth': [3, 4, 5],\n",
    "    'n_estimators': [100, 200, 300],\n",
    "}\n",
    "model = XGBClassifier(param_grid)\n",
    "\n",
    "# Step 4: Train the XGBoost Model\n",
    "model.fit(X_train, y_train)\n",
    "\n",
    "# Step 5: Make Predictions on the Test Set\n",
    "y_pred = model.predict(X_test)\n",
    "\n",
    "# Step 6: Evaluate the Model\n",
    "accuracy = accuracy_score(y_test, y_pred)\n",
    "print(f\"Accuracy: {accuracy:.2f}\")\n",
    "\n",
    "# Step 7 (Optional): Feature Importance\n",
    "importances = model.feature_importances_\n",
    "feature_names = [\"feature 1\", \"feature 2\"]\n",
    "# feature_importance_df = pd.DataFrame({'Feature': feature_names, 'Importance': importances})\n",
    "# print(\"Feature Importance:\")\n",
    "# print(feature_importance_df)\n"
   ]
  },
  {
   "cell_type": "code",
   "execution_count": 33,
   "id": "572aff92",
   "metadata": {},
   "outputs": [
    {
     "name": "stdout",
     "output_type": "stream",
     "text": [
      "Accuracy: 0.69\n",
      "\n",
      "Feature Importance:\n",
      "                    Feature  Importance\n",
      "0               Pregnancies    0.072386\n",
      "1                   Glucose    0.247188\n",
      "2             BloodPressure    0.093273\n",
      "3             SkinThickness    0.098815\n",
      "4                   Insulin    0.115176\n",
      "5                       BMI    0.143292\n",
      "6  DiabetesPedigreeFunction    0.090128\n",
      "7                       Age    0.139741\n"
     ]
    }
   ],
   "source": [
    "# Import necessary libraries\n",
    "import pandas as pd\n",
    "import numpy as np\n",
    "from sklearn.datasets import load_iris\n",
    "from sklearn.model_selection import train_test_split\n",
    "from sklearn.metrics import accuracy_score\n",
    "from xgboost import XGBClassifier\n",
    "\n",
    "# Step 1: Load and Prepare the Iris Dataset\n",
    "dataset = pd.read_csv(\"diabetes.csv\")\n",
    "X = dataset.drop(columns=\"Outcome\")  # Features\n",
    "y = dataset.Outcome  # Target labels\n",
    "\n",
    "# Step 2: Split the Data into Training and Testing Sets\n",
    "X_train, X_test, y_train, y_test = train_test_split(X, y, test_size=0.2, random_state=42)\n",
    "\n",
    "# Step 3: Initialize and Configure the XGBoost Model\n",
    "param_grid = {\n",
    "    'learning_rate': [0.01, 0.1, 0.2],\n",
    "    'max_depth': [3, 4, 5],\n",
    "    'n_estimators': [100, 200, 300],\n",
    "}\n",
    "model = XGBClassifier()\n",
    "\n",
    "# Step 4: Train the XGBoost Model\n",
    "model.fit(X_train, y_train)\n",
    "\n",
    "# Step 5: Make Predictions on the Test Set\n",
    "y_pred = model.predict(X_test)\n",
    "\n",
    "# Step 6: Evaluate the Model\n",
    "accuracy = accuracy_score(y_test, y_pred)\n",
    "print(f\"Accuracy: {accuracy:.2f}\")\n",
    "\n",
    "# Step 7 (Optional): Feature Importance\n",
    "importances = model.feature_importances_\n",
    "feature_names = X.columns\n",
    "feature_importance_df = pd.DataFrame({'Feature': feature_names, 'Importance': importances})\n",
    "print(\"Feature Importance:\")\n",
    "print(feature_importance_df)\n"
   ]
  },
  {
   "cell_type": "code",
   "execution_count": null,
   "id": "4511cbdc",
   "metadata": {},
   "outputs": [],
   "source": []
  }
 ],
 "metadata": {
  "kernelspec": {
   "display_name": "Python 3 (ipykernel)",
   "language": "python",
   "name": "python3"
  },
  "language_info": {
   "codemirror_mode": {
    "name": "ipython",
    "version": 3
   },
   "file_extension": ".py",
   "mimetype": "text/x-python",
   "name": "python",
   "nbconvert_exporter": "python",
   "pygments_lexer": "ipython3",
   "version": "3.11.3"
  }
 },
 "nbformat": 4,
 "nbformat_minor": 5
}
