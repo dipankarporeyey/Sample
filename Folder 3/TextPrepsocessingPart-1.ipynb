{
 "cells": [
  {
   "cell_type": "code",
   "execution_count": 66,
   "id": "235e7022",
   "metadata": {},
   "outputs": [
    {
     "name": "stdout",
     "output_type": "stream",
     "text": [
      "Original Text:\n",
      "text preprocessing is an important step in natural language processing it involves cleaning and transforming raw text data into a format suitable for analysis\n",
      "\n",
      "Cleaned Text:\n",
      "text preprocessing important step natural language processing involves cleaning transforming raw text data format suitable analysis\n"
     ]
    },
    {
     "name": "stderr",
     "output_type": "stream",
     "text": [
      "[nltk_data] Downloading package wordnet to\n",
      "[nltk_data]     C:\\Users\\UJ415AV\\AppData\\Roaming\\nltk_data...\n",
      "[nltk_data]   Package wordnet is already up-to-date!\n"
     ]
    }
   ],
   "source": [
    "import warnings\n",
    "warnings.filterwarnings(\"ignore\")\n",
    "import nltk\n",
    "import re\n",
    "from nltk.corpus import stopwords\n",
    "from nltk.tokenize import word_tokenize\n",
    "from nltk.stem import PorterStemmer, WordNetLemmatizer\n",
    "\n",
    "# Sample text\n",
    "text = \"Text preprocessing is an important step in natural language processing. It involves cleaning and transforming raw text data into a format suitable for analysis.\"\n",
    "\n",
    "# Convert text to lowercase\n",
    "text = text.lower()\n",
    "\n",
    "# Remove punctuation and special characters\n",
    "text = re.sub(r'[^a-zA-Z0-9\\s]', '', text)\n",
    "\n",
    "# Tokenize the text (split it into words)\n",
    "tokens = word_tokenize(text)\n",
    "\n",
    "# Remove stop words\n",
    "stop_words = set(stopwords.words('english'))\n",
    "filtered_tokens = [word for word in tokens if word not in stop_words]\n",
    "\n",
    "# Stemming (using Porter stemmer)\n",
    "stemmer = PorterStemmer()\n",
    "stemmed_tokens = [stemmer.stem(word) for word in filtered_tokens]\n",
    "\n",
    "# Lemmatization (using WordNet lemmatizer)\n",
    "nltk.download('wordnet')\n",
    "lemmatizer = WordNetLemmatizer()\n",
    "lemmatized_tokens = [lemmatizer.lemmatize(word) for word in filtered_tokens]\n",
    "\n",
    "# Join the preprocessed tokens back into a clean text\n",
    "clean_text = ' '.join(lemmatized_tokens)\n",
    "\n",
    "# Print the cleaned text\n",
    "print(\"Original Text:\")\n",
    "print(text)\n",
    "print(\"\\nCleaned Text:\")\n",
    "print(clean_text)\n"
   ]
  },
  {
   "cell_type": "markdown",
   "id": "7e75c6cf",
   "metadata": {},
   "source": [
    "# 1."
   ]
  },
  {
   "cell_type": "code",
   "execution_count": 67,
   "id": "6af4b9ed",
   "metadata": {},
   "outputs": [],
   "source": [
    "import nltk\n",
    "import re"
   ]
  },
  {
   "cell_type": "code",
   "execution_count": 68,
   "id": "2baa8de8",
   "metadata": {},
   "outputs": [],
   "source": [
    "from nltk.corpus import stopwords"
   ]
  },
  {
   "cell_type": "code",
   "execution_count": 69,
   "id": "978e26b6",
   "metadata": {},
   "outputs": [],
   "source": [
    "from nltk.tokenize import word_tokenize"
   ]
  },
  {
   "cell_type": "code",
   "execution_count": 70,
   "id": "32c958e1",
   "metadata": {},
   "outputs": [],
   "source": [
    "from nltk.stem import PorterStemmer,WordNetLemmatizer"
   ]
  },
  {
   "cell_type": "code",
   "execution_count": 71,
   "id": "4aa30f62",
   "metadata": {},
   "outputs": [
    {
     "name": "stdout",
     "output_type": "stream",
     "text": [
      "Text preprocessing is an important step in natural language processing. It involves cleaning and transforming raw text data into a format suitable for analysis.\n"
     ]
    }
   ],
   "source": [
    "text = \"Text preprocessing is an important step in natural language processing. It involves cleaning and transforming raw text data into a format suitable for analysis.\"\n",
    "print(text)"
   ]
  },
  {
   "cell_type": "code",
   "execution_count": 72,
   "id": "59c3e3fd",
   "metadata": {},
   "outputs": [
    {
     "name": "stdout",
     "output_type": "stream",
     "text": [
      "text preprocessing is an important step in natural language processing. it involves cleaning and transforming raw text data into a format suitable for analysis.\n"
     ]
    }
   ],
   "source": [
    "text = text.lower()\n",
    "print(text)"
   ]
  },
  {
   "cell_type": "code",
   "execution_count": 73,
   "id": "fdc8dfa7",
   "metadata": {},
   "outputs": [
    {
     "name": "stdout",
     "output_type": "stream",
     "text": [
      "text preprocessing is an important step in natural language processing it involves cleaning and transforming raw text data into a format suitable for analysis\n"
     ]
    }
   ],
   "source": [
    "text = re.sub(r\"[^a-zA-Z0-9\\s]\",\"\",text)\n",
    "print(text)"
   ]
  },
  {
   "cell_type": "code",
   "execution_count": 74,
   "id": "8c78f74f",
   "metadata": {},
   "outputs": [
    {
     "name": "stdout",
     "output_type": "stream",
     "text": [
      "['text', 'preprocessing', 'is', 'an', 'important', 'step', 'in', 'natural', 'language', 'processing', 'it', 'involves', 'cleaning', 'and', 'transforming', 'raw', 'text', 'data', 'into', 'a', 'format', 'suitable', 'for', 'analysis']\n"
     ]
    }
   ],
   "source": [
    "token = word_tokenize(text)\n",
    "print(token)"
   ]
  },
  {
   "cell_type": "code",
   "execution_count": 75,
   "id": "775fa4e7",
   "metadata": {},
   "outputs": [
    {
     "name": "stdout",
     "output_type": "stream",
     "text": [
      "['text', 'preprocessing', 'important', 'step', 'natural', 'language', 'processing', 'involves', 'cleaning', 'transforming', 'raw', 'text', 'data', 'format', 'suitable', 'analysis']\n"
     ]
    }
   ],
   "source": [
    "token = [i for i in token if i not in set(stopwords.words(\"english\"))]\n",
    "print(token)"
   ]
  },
  {
   "cell_type": "code",
   "execution_count": 76,
   "id": "92e3ed17",
   "metadata": {},
   "outputs": [
    {
     "name": "stdout",
     "output_type": "stream",
     "text": [
      "['text', 'preprocess', 'import', 'step', 'natur', 'languag', 'process', 'involv', 'clean', 'transform', 'raw', 'text', 'data', 'format', 'suitabl', 'analysi']\n"
     ]
    }
   ],
   "source": [
    "ps = PorterStemmer()\n",
    "ps_token = [ps.stem(i) for i in token]\n",
    "print(ps_token)"
   ]
  },
  {
   "cell_type": "code",
   "execution_count": 77,
   "id": "a3d51e16",
   "metadata": {},
   "outputs": [
    {
     "name": "stdout",
     "output_type": "stream",
     "text": [
      "['text', 'preprocessing', 'important', 'step', 'natural', 'language', 'processing', 'involves', 'cleaning', 'transforming', 'raw', 'text', 'data', 'format', 'suitable', 'analysis']\n"
     ]
    }
   ],
   "source": [
    "lmm = WordNetLemmatizer()\n",
    "lmm_token = [lmm.lemmatize(i) for i in token]\n",
    "print(lmm_token)"
   ]
  },
  {
   "cell_type": "code",
   "execution_count": 78,
   "id": "1bccde46",
   "metadata": {},
   "outputs": [
    {
     "name": "stdout",
     "output_type": "stream",
     "text": [
      "text preprocess import step natur languag process involv clean transform raw text data format suitabl analysi\n"
     ]
    }
   ],
   "source": [
    "ps_join = \" \".join(ps_token)\n",
    "print(ps_join)"
   ]
  },
  {
   "cell_type": "code",
   "execution_count": 79,
   "id": "9fa510b8",
   "metadata": {},
   "outputs": [
    {
     "name": "stdout",
     "output_type": "stream",
     "text": [
      "text preprocessing important step natural language processing involves cleaning transforming raw text data format suitable analysis\n"
     ]
    }
   ],
   "source": [
    "lmm_join = \" \".join(lmm_token)\n",
    "print(lmm_join)"
   ]
  },
  {
   "cell_type": "markdown",
   "id": "f0e4f83e",
   "metadata": {},
   "source": [
    "In this code:\n",
    "\n",
    "1. We start with a sample text that we want to preprocess.\n",
    "\n",
    "2. We convert the text to lowercase to ensure consistency.\n",
    "\n",
    "3. We remove punctuation and special characters using regular expressions (re.sub).\n",
    "\n",
    "4. We tokenize the text into individual words using NLTK's word_tokenize function.\n",
    "\n",
    "5. We remove common stopwords (e.g., \"the,\" \"and,\" \"is\") using NLTK's list of English stop words.\n",
    "\n",
    "6. We perform stemming on the remaining words using the Porter stemmer to reduce them to their base form.\n",
    "\n",
    "7. We also demonstrate lemmatization using the WordNet lemmatizer, which reduces words to their base or dictionary form.\n",
    "\n",
    "Finally, we join the preprocessed tokens back together into a clean text."
   ]
  },
  {
   "cell_type": "markdown",
   "id": "dfcd27a8",
   "metadata": {},
   "source": [
    "# 2."
   ]
  },
  {
   "cell_type": "code",
   "execution_count": 89,
   "id": "78e36ff9",
   "metadata": {},
   "outputs": [],
   "source": [
    "ph = \"In a world full of challenges, we often encounter unexpected twists and turns in our journey. Life's path is not always smooth, and it's essential to navigate through the highs and lows with resilience and determination! Embracing each obstacle as an opportunity for growth and learning is the key to achieving success. So, don't be afraid to take risks, dream big, and make your mark on this exciting adventure called life.\""
   ]
  },
  {
   "cell_type": "code",
   "execution_count": 90,
   "id": "729804a9",
   "metadata": {},
   "outputs": [
    {
     "data": {
      "text/plain": [
       "'In a world full of challenges we often encounter unexpected twists and turns in our journey Lifes path is not always smooth and its essential to navigate through the highs and lows with resilience and determination Embracing each obstacle as an opportunity for growth and learning is the key to achieving success So dont be afraid to take risks dream big and make your mark on this exciting adventure called life'"
      ]
     },
     "execution_count": 90,
     "metadata": {},
     "output_type": "execute_result"
    }
   ],
   "source": [
    "ph = re.sub(r\"[^a-zA-Z0-9\\s]\",\"\",ph)\n",
    "ph"
   ]
  },
  {
   "cell_type": "code",
   "execution_count": 91,
   "id": "09039090",
   "metadata": {},
   "outputs": [
    {
     "data": {
      "text/plain": [
       "'in a world full of challenges we often encounter unexpected twists and turns in our journey lifes path is not always smooth and its essential to navigate through the highs and lows with resilience and determination embracing each obstacle as an opportunity for growth and learning is the key to achieving success so dont be afraid to take risks dream big and make your mark on this exciting adventure called life'"
      ]
     },
     "execution_count": 91,
     "metadata": {},
     "output_type": "execute_result"
    }
   ],
   "source": [
    "ph = ph.lower()\n",
    "ph"
   ]
  },
  {
   "cell_type": "code",
   "execution_count": 92,
   "id": "ab1d680d",
   "metadata": {},
   "outputs": [
    {
     "data": {
      "text/plain": [
       "['in',\n",
       " 'a',\n",
       " 'world',\n",
       " 'full',\n",
       " 'of',\n",
       " 'challenges',\n",
       " 'we',\n",
       " 'often',\n",
       " 'encounter',\n",
       " 'unexpected',\n",
       " 'twists',\n",
       " 'and',\n",
       " 'turns',\n",
       " 'in',\n",
       " 'our',\n",
       " 'journey',\n",
       " 'lifes',\n",
       " 'path',\n",
       " 'is',\n",
       " 'not',\n",
       " 'always',\n",
       " 'smooth',\n",
       " 'and',\n",
       " 'its',\n",
       " 'essential',\n",
       " 'to',\n",
       " 'navigate',\n",
       " 'through',\n",
       " 'the',\n",
       " 'highs',\n",
       " 'and',\n",
       " 'lows',\n",
       " 'with',\n",
       " 'resilience',\n",
       " 'and',\n",
       " 'determination',\n",
       " 'embracing',\n",
       " 'each',\n",
       " 'obstacle',\n",
       " 'as',\n",
       " 'an',\n",
       " 'opportunity',\n",
       " 'for',\n",
       " 'growth',\n",
       " 'and',\n",
       " 'learning',\n",
       " 'is',\n",
       " 'the',\n",
       " 'key',\n",
       " 'to',\n",
       " 'achieving',\n",
       " 'success',\n",
       " 'so',\n",
       " 'dont',\n",
       " 'be',\n",
       " 'afraid',\n",
       " 'to',\n",
       " 'take',\n",
       " 'risks',\n",
       " 'dream',\n",
       " 'big',\n",
       " 'and',\n",
       " 'make',\n",
       " 'your',\n",
       " 'mark',\n",
       " 'on',\n",
       " 'this',\n",
       " 'exciting',\n",
       " 'adventure',\n",
       " 'called',\n",
       " 'life']"
      ]
     },
     "execution_count": 92,
     "metadata": {},
     "output_type": "execute_result"
    }
   ],
   "source": [
    "ph = word_tokenize(ph)\n",
    "ph"
   ]
  },
  {
   "cell_type": "code",
   "execution_count": 97,
   "id": "87a9689c",
   "metadata": {
    "scrolled": false
   },
   "outputs": [
    {
     "data": {
      "text/plain": [
       "['world',\n",
       " 'full',\n",
       " 'challenges',\n",
       " 'often',\n",
       " 'encounter',\n",
       " 'unexpected',\n",
       " 'twists',\n",
       " 'turns',\n",
       " 'journey',\n",
       " 'lifes',\n",
       " 'path',\n",
       " 'always',\n",
       " 'smooth',\n",
       " 'essential',\n",
       " 'navigate',\n",
       " 'highs',\n",
       " 'lows',\n",
       " 'resilience',\n",
       " 'determination',\n",
       " 'embracing',\n",
       " 'obstacle',\n",
       " 'opportunity',\n",
       " 'growth',\n",
       " 'learning',\n",
       " 'key',\n",
       " 'achieving',\n",
       " 'success',\n",
       " 'dont',\n",
       " 'afraid',\n",
       " 'take',\n",
       " 'risks',\n",
       " 'dream',\n",
       " 'big',\n",
       " 'make',\n",
       " 'mark',\n",
       " 'exciting',\n",
       " 'adventure',\n",
       " 'called',\n",
       " 'life']"
      ]
     },
     "execution_count": 97,
     "metadata": {},
     "output_type": "execute_result"
    }
   ],
   "source": [
    "ph = [i for i in ph if i not in stopwords.words('english')]\n",
    "ph"
   ]
  },
  {
   "cell_type": "code",
   "execution_count": 102,
   "id": "ea444f13",
   "metadata": {
    "scrolled": false
   },
   "outputs": [
    {
     "name": "stdout",
     "output_type": "stream",
     "text": [
      "world full challeng often encount unexpect twist turn journey life path alway smooth essenti navig high low resili determin embrac obstacl opportun growth learn key achiev success dont afraid take risk dream big make mark excit adventur call life\n"
     ]
    }
   ],
   "source": [
    "ptt = PorterStemmer()\n",
    "ph_pt = [ptt.stem(i) for i in ph]\n",
    "ph_pt = \" \".join(ph_pt)\n",
    "print(ph_pt)"
   ]
  },
  {
   "cell_type": "code",
   "execution_count": 103,
   "id": "553307f5",
   "metadata": {},
   "outputs": [
    {
     "name": "stdout",
     "output_type": "stream",
     "text": [
      "world full challenge often encounter unexpected twist turn journey life path always smooth essential navigate high low resilience determination embracing obstacle opportunity growth learning key achieving success dont afraid take risk dream big make mark exciting adventure called life\n"
     ]
    }
   ],
   "source": [
    "w_lem = WordNetLemmatizer()\n",
    "w_lem = [w_lem.lemmatize(i) for i in ph]\n",
    "w_lem = \" \".join(w_lem)\n",
    "print(w_lem)"
   ]
  },
  {
   "cell_type": "code",
   "execution_count": null,
   "id": "32ff287a",
   "metadata": {},
   "outputs": [],
   "source": []
  }
 ],
 "metadata": {
  "kernelspec": {
   "display_name": "Python 3 (ipykernel)",
   "language": "python",
   "name": "python3"
  },
  "language_info": {
   "codemirror_mode": {
    "name": "ipython",
    "version": 3
   },
   "file_extension": ".py",
   "mimetype": "text/x-python",
   "name": "python",
   "nbconvert_exporter": "python",
   "pygments_lexer": "ipython3",
   "version": "3.11.3"
  }
 },
 "nbformat": 4,
 "nbformat_minor": 5
}
