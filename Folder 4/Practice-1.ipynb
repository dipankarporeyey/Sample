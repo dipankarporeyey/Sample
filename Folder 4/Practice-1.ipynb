{
 "cells": [
  {
   "cell_type": "code",
   "execution_count": 295,
   "id": "972d8288",
   "metadata": {},
   "outputs": [],
   "source": [
    "import os\n",
    "print(os.listdir())"
   ]
  },
  {
   "cell_type": "code",
   "execution_count": 296,
   "id": "4b3574e8",
   "metadata": {},
   "outputs": [],
   "source": [
    "import pandas as pd\n",
    "import numpy as np\n",
    "import matplotlib.pyplot as plt"
   ]
  },
  {
   "cell_type": "code",
   "execution_count": 297,
   "id": "98d0523b",
   "metadata": {},
   "outputs": [],
   "source": [
    "# Read the data\n",
    "data = pd.read_csv(\"diabetes.csv\")\n",
    "data.head(3)"
   ]
  },
  {
   "cell_type": "code",
   "execution_count": 298,
   "id": "92a355a4",
   "metadata": {},
   "outputs": [],
   "source": [
    "# Check whether null and duplicate value presend there or not\n",
    "data.isna().sum()"
   ]
  },
  {
   "cell_type": "code",
   "execution_count": 299,
   "id": "f77500b5",
   "metadata": {},
   "outputs": [],
   "source": [
    "data.duplicated().sum()"
   ]
  },
  {
   "cell_type": "code",
   "execution_count": 300,
   "id": "c58cd468",
   "metadata": {},
   "outputs": [],
   "source": [
    "x_data = data.drop(columns=[\"Outcome\"],axis=1)\n",
    "x_data.head(3)"
   ]
  },
  {
   "cell_type": "code",
   "execution_count": 301,
   "id": "a07fb9f9",
   "metadata": {},
   "outputs": [],
   "source": [
    "from sklearn.preprocessing import StandardScaler\n",
    "x_data = StandardScaler().fit_transform(x_data)\n",
    "x_data"
   ]
  },
  {
   "cell_type": "code",
   "execution_count": null,
   "id": "e25f09da",
   "metadata": {},
   "outputs": [],
   "source": []
  },
  {
   "cell_type": "code",
   "execution_count": 302,
   "id": "6e189a4f",
   "metadata": {},
   "outputs": [],
   "source": [
    "y_data = pd.DataFrame(data.Outcome,columns=[\"Outcome\"])\n",
    "y_data.head(3)"
   ]
  },
  {
   "cell_type": "code",
   "execution_count": 303,
   "id": "647ae780",
   "metadata": {},
   "outputs": [],
   "source": [
    "y_data.value_counts()"
   ]
  },
  {
   "cell_type": "code",
   "execution_count": 304,
   "id": "27ab5bc0",
   "metadata": {},
   "outputs": [],
   "source": [
    "from sklearn.model_selection import train_test_split\n",
    "x_train, y_train, x_test, y_test = train_test_split(x_data, y_data, test_size=0.8, random_state=42)\n",
    "print(x_train.shape, y_train.shape, x_test.shape, y_test.shape)"
   ]
  },
  {
   "cell_type": "code",
   "execution_count": 305,
   "id": "61f2428d",
   "metadata": {},
   "outputs": [],
   "source": [
    "from sklearn.ensemble import RandomForestClassifier"
   ]
  },
  {
   "cell_type": "code",
   "execution_count": 306,
   "id": "eead40a1",
   "metadata": {},
   "outputs": [],
   "source": [
    "randomclassifier = RandomForestClassifier(n_estimators=30,\n",
    "                                          n_jobs=1,\n",
    "                                          verbose=1,\n",
    "                                          random_state=100,\n",
    "                                          oob_score=True)\n",
    "randomclassifier"
   ]
  },
  {
   "cell_type": "code",
   "execution_count": 307,
   "id": "5e77daac",
   "metadata": {},
   "outputs": [],
   "source": [
    "print(randomclassifier.estimator)"
   ]
  },
  {
   "cell_type": "code",
   "execution_count": 308,
   "id": "47ccd047",
   "metadata": {},
   "outputs": [],
   "source": [
    "print(randomclassifier.oob_score)"
   ]
  },
  {
   "cell_type": "code",
   "execution_count": 309,
   "id": "b288265a",
   "metadata": {},
   "outputs": [],
   "source": [
    "# print(randomclassifier.oob_score_)"
   ]
  },
  {
   "cell_type": "code",
   "execution_count": 310,
   "id": "e9d2bf9a",
   "metadata": {},
   "outputs": [],
   "source": [
    "# !pip install --upgrade scikit-learn"
   ]
  },
  {
   "cell_type": "code",
   "execution_count": 311,
   "id": "789f51a8",
   "metadata": {},
   "outputs": [],
   "source": [
    "randomclassifier.fit(x_train, x_test)"
   ]
  },
  {
   "cell_type": "code",
   "execution_count": 312,
   "id": "0ab605c1",
   "metadata": {},
   "outputs": [],
   "source": [
    "pred = randomclassifier.predict(y_train)\n",
    "print(pred)"
   ]
  },
  {
   "cell_type": "code",
   "execution_count": 313,
   "id": "c39a82ed",
   "metadata": {},
   "outputs": [],
   "source": [
    "from sklearn.metrics import confusion_matrix, accuracy_score, classification_report"
   ]
  },
  {
   "cell_type": "code",
   "execution_count": 314,
   "id": "82d42960",
   "metadata": {},
   "outputs": [],
   "source": [
    "print(confusion_matrix(pred, y_test))"
   ]
  },
  {
   "cell_type": "code",
   "execution_count": 315,
   "id": "5d0416a7",
   "metadata": {},
   "outputs": [],
   "source": [
    "print(accuracy_score(pred, y_test))"
   ]
  },
  {
   "cell_type": "code",
   "execution_count": 316,
   "id": "bf66523d",
   "metadata": {},
   "outputs": [],
   "source": [
    "print(classification_report(pred, y_test))"
   ]
  },
  {
   "cell_type": "code",
   "execution_count": 317,
   "id": "779bda27",
   "metadata": {},
   "outputs": [],
   "source": [
    "print(randomclassifier.oob_score_)"
   ]
  },
  {
   "cell_type": "code",
   "execution_count": 318,
   "id": "2948de96",
   "metadata": {},
   "outputs": [],
   "source": [
    "from sklearn.tree import DecisionTreeClassifier"
   ]
  },
  {
   "cell_type": "code",
   "execution_count": 319,
   "id": "0b70ed2d",
   "metadata": {},
   "outputs": [],
   "source": [
    "decisiontreeclassifier = DecisionTreeClassifier()\n",
    "decisiontreeclassifier"
   ]
  },
  {
   "cell_type": "code",
   "execution_count": 320,
   "id": "907543c6",
   "metadata": {},
   "outputs": [],
   "source": [
    "decisiontreeclassifier.fit(x_train, x_test)"
   ]
  },
  {
   "cell_type": "code",
   "execution_count": 321,
   "id": "8941b478",
   "metadata": {},
   "outputs": [],
   "source": [
    "pred = decisiontreeclassifier.predict(y_train)\n",
    "pred"
   ]
  },
  {
   "cell_type": "code",
   "execution_count": 322,
   "id": "dfedae8a",
   "metadata": {},
   "outputs": [],
   "source": [
    "print(confusion_matrix(pred, y_test))"
   ]
  },
  {
   "cell_type": "code",
   "execution_count": 323,
   "id": "0957f01c",
   "metadata": {},
   "outputs": [],
   "source": [
    "print(accuracy_score(pred, y_test))"
   ]
  },
  {
   "cell_type": "code",
   "execution_count": 324,
   "id": "6db993b8",
   "metadata": {},
   "outputs": [],
   "source": [
    "print(classification_report(pred, y_test))"
   ]
  },
  {
   "cell_type": "code",
   "execution_count": 325,
   "id": "e5aaa17a",
   "metadata": {},
   "outputs": [],
   "source": [
    "from sklearn.model_selection import cross_val_score"
   ]
  },
  {
   "cell_type": "code",
   "execution_count": 326,
   "id": "def95dcf",
   "metadata": {},
   "outputs": [],
   "source": [
    "score = cross_val_score(DecisionTreeClassifier(), x_train, x_test, cv = 33)"
   ]
  },
  {
   "cell_type": "code",
   "execution_count": 327,
   "id": "450ffb19",
   "metadata": {},
   "outputs": [],
   "source": [
    "print(score.mean())"
   ]
  },
  {
   "cell_type": "code",
   "execution_count": 328,
   "id": "73dac052",
   "metadata": {},
   "outputs": [],
   "source": [
    "from sklearn.ensemble import BaggingClassifier"
   ]
  },
  {
   "cell_type": "code",
   "execution_count": 329,
   "id": "f6354c6b",
   "metadata": {},
   "outputs": [],
   "source": [
    "baggingclassifier = BaggingClassifier(DecisionTreeClassifier(),\n",
    "                                      n_estimators=10,\n",
    "                                      n_jobs=1,\n",
    "                                      oob_score=True)"
   ]
  },
  {
   "cell_type": "code",
   "execution_count": 330,
   "id": "310de15b",
   "metadata": {},
   "outputs": [],
   "source": [
    "baggingclassifier.fit(x_train, x_test)"
   ]
  },
  {
   "cell_type": "code",
   "execution_count": 331,
   "id": "8ba9cd04",
   "metadata": {},
   "outputs": [],
   "source": [
    "print(baggingclassifier.estimator)\n",
    "print(baggingclassifier.estimator_)"
   ]
  },
  {
   "cell_type": "code",
   "execution_count": 332,
   "id": "3ba53c3f",
   "metadata": {},
   "outputs": [],
   "source": [
    "print(baggingclassifier.oob_score)"
   ]
  },
  {
   "cell_type": "code",
   "execution_count": 333,
   "id": "eb2a23ff",
   "metadata": {},
   "outputs": [],
   "source": [
    "pred = baggingclassifier.predict(y_train)"
   ]
  },
  {
   "cell_type": "code",
   "execution_count": 334,
   "id": "1040f021",
   "metadata": {},
   "outputs": [],
   "source": [
    "print(baggingclassifier.oob_score_)"
   ]
  },
  {
   "cell_type": "code",
   "execution_count": 335,
   "id": "46b555c2",
   "metadata": {},
   "outputs": [],
   "source": [
    "print(confusion_matrix(pred, y_test))"
   ]
  },
  {
   "cell_type": "code",
   "execution_count": 336,
   "id": "a5c3d71b",
   "metadata": {},
   "outputs": [],
   "source": [
    "print(accuracy_score(pred, y_test))"
   ]
  },
  {
   "cell_type": "code",
   "execution_count": 337,
   "id": "8dbdd2bc",
   "metadata": {},
   "outputs": [],
   "source": [
    "print(classification_report(pred, y_test))"
   ]
  },
  {
   "cell_type": "code",
   "execution_count": 338,
   "id": "781d7052",
   "metadata": {},
   "outputs": [],
   "source": [
    "from sklearn.ensemble import GradientBoostingClassifier"
   ]
  },
  {
   "cell_type": "code",
   "execution_count": 339,
   "id": "6b60907f",
   "metadata": {},
   "outputs": [],
   "source": [
    "gradientboostingclassifier = GradientBoostingClassifier(n_estimators=10)\n",
    "gradientboostingclassifier"
   ]
  },
  {
   "cell_type": "code",
   "execution_count": 340,
   "id": "9ad2a38b",
   "metadata": {},
   "outputs": [],
   "source": [
    "gradientboostingclassifier.fit(x_train, x_test)"
   ]
  },
  {
   "cell_type": "code",
   "execution_count": 341,
   "id": "bc065caf",
   "metadata": {},
   "outputs": [],
   "source": [
    "pred = gradientboostingclassifier.predict(y_train)\n",
    "pred"
   ]
  },
  {
   "cell_type": "code",
   "execution_count": 342,
   "id": "e7e0a0b3",
   "metadata": {},
   "outputs": [],
   "source": [
    "print(confusion_matrix(pred, y_test))"
   ]
  },
  {
   "cell_type": "code",
   "execution_count": 343,
   "id": "470dd8da",
   "metadata": {},
   "outputs": [],
   "source": [
    "print(accuracy_score(pred, y_test))"
   ]
  },
  {
   "cell_type": "code",
   "execution_count": 344,
   "id": "10da932d",
   "metadata": {},
   "outputs": [],
   "source": [
    "print(classification_report(pred, y_test))"
   ]
  },
  {
   "cell_type": "code",
   "execution_count": null,
   "id": "56210187",
   "metadata": {},
   "outputs": [],
   "source": []
  }
 ],
 "metadata": {
  "kernelspec": {
   "display_name": "Python 3 (ipykernel)",
   "language": "python",
   "name": "python3"
  },
  "language_info": {
   "codemirror_mode": {
    "name": "ipython",
    "version": 3
   },
   "file_extension": ".py",
   "mimetype": "text/x-python",
   "name": "python",
   "nbconvert_exporter": "python",
   "pygments_lexer": "ipython3",
   "version": "3.11.3"
  }
 },
 "nbformat": 4,
 "nbformat_minor": 5
}
