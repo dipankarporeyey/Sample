{
 "cells": [
  {
   "cell_type": "code",
   "execution_count": 1,
   "id": "7da7c5a8",
   "metadata": {},
   "outputs": [
    {
     "name": "stdout",
     "output_type": "stream",
     "text": [
      "Confusion Matrix:\n",
      "[[3 2]\n",
      " [1 4]]\n",
      "Precision: 0.67\n",
      "Recall (True Positive Rate): 0.80\n",
      "False Positive Rate: 0.40\n",
      "Accuracy Score: 0.70\n",
      "Classification Report:               precision    recall  f1-score   support\n",
      "\n",
      "           0       0.75      0.60      0.67         5\n",
      "           1       0.67      0.80      0.73         5\n",
      "\n",
      "    accuracy                           0.70        10\n",
      "   macro avg       0.71      0.70      0.70        10\n",
      "weighted avg       0.71      0.70      0.70        10\n",
      "\n"
     ]
    }
   ],
   "source": [
    "import numpy as np\n",
    "from sklearn.metrics import confusion_matrix, precision_score, recall_score, accuracy_score, classification_report\n",
    "\n",
    "# Generate synthetic data for a binary classification problem\n",
    "# True labels (actual ground truth)\n",
    "y_true = np.array([0, 1, 1, 0, 1, 1, 0, 0, 1, 0])\n",
    "\n",
    "# Predicted labels (model predictions)\n",
    "y_pred = np.array([0, 1, 1, 0, 0, 1, 1, 0, 1, 1])\n",
    "\n",
    "# Compute the confusion matrix\n",
    "cm = confusion_matrix(y_true, y_pred)\n",
    "\n",
    "# Extract values from the confusion matrix\n",
    "tn, fp, fn, tp = cm.ravel()\n",
    "\n",
    "# Calculate precision, recall, true positive rate (TPR), and false positive rate (FPR)\n",
    "precision = precision_score(y_true, y_pred)\n",
    "recall = recall_score(y_true, y_pred)\n",
    "tpr = tp / (tp + fn)  # True Positive Rate (Recall)\n",
    "fpr = fp / (fp + tn)  # False Positive Rate\n",
    "\n",
    "# Print the confusion matrix and metrics\n",
    "print(\"Confusion Matrix:\")\n",
    "print(cm)\n",
    "print(f\"Precision: {precision:.2f}\")\n",
    "print(f\"Recall (True Positive Rate): {recall:.2f}\")\n",
    "print(f\"False Positive Rate: {fpr:.2f}\")\n",
    "print(f\"Accuracy Score: {accuracy_score(y_true, y_pred):.2f}\")\n",
    "print(f\"Classification Report: {classification_report(y_true, y_pred)}\")"
   ]
  },
  {
   "cell_type": "code",
   "execution_count": null,
   "id": "5199e4c2",
   "metadata": {},
   "outputs": [],
   "source": []
  }
 ],
 "metadata": {
  "kernelspec": {
   "display_name": "Python 3 (ipykernel)",
   "language": "python",
   "name": "python3"
  },
  "language_info": {
   "codemirror_mode": {
    "name": "ipython",
    "version": 3
   },
   "file_extension": ".py",
   "mimetype": "text/x-python",
   "name": "python",
   "nbconvert_exporter": "python",
   "pygments_lexer": "ipython3",
   "version": "3.11.3"
  }
 },
 "nbformat": 4,
 "nbformat_minor": 5
}
